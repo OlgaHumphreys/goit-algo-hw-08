{
  "nbformat": 4,
  "nbformat_minor": 0,
  "metadata": {
    "colab": {
      "provenance": [],
      "authorship_tag": "ABX9TyOx+Jr9LgB5+HxghflIq0zL",
      "include_colab_link": true
    },
    "kernelspec": {
      "name": "python3",
      "display_name": "Python 3"
    },
    "language_info": {
      "name": "python"
    }
  },
  "cells": [
    {
      "cell_type": "markdown",
      "metadata": {
        "id": "view-in-github",
        "colab_type": "text"
      },
      "source": [
        "<a href=\"https://colab.research.google.com/github/OlgaHumphreys/goit-algo-hw-08/blob/main/goit_algo_hw_08.ipynb\" target=\"_parent\"><img src=\"https://colab.research.google.com/assets/colab-badge.svg\" alt=\"Open In Colab\"/></a>"
      ]
    },
    {
      "cell_type": "markdown",
      "source": [
        "Домашнє завдання до теми “Купи, або піраміди”\n",
        "\n",
        "Вітаємо в домашньому завданні до теми “Купи”! 🙂\n",
        "\n",
        "Ви вже знаєте особливості купи як структури даних, як вона реалізується, які функції дозволяють працювати з нею та як виконується алгоритм пірамідального сортування.\n",
        "Наразі вам потрібно реалізувати пірамідальне сортування за допомогою модуля heapq.\n",
        "А для тих, хто хоче поглибитись у купи, запропоновано також додаткове опціональне завдання. Бажаємо успіхів! 😎\n",
        "\n",
        "\n",
        "Опис домашнього завдання\n",
        "\n",
        "Уявіть, що вам на технічному інтерв'ю дають наступну задачу, яку треба розв'язати за допомогою купи.\n",
        "\n",
        "Є декілька мережевих кабелів різної довжини, їх потрібно об'єднати по два за раз в один кабель, використовуючи з'єднувачі, у порядку, який призведе до найменших витрат. Витрати на з'єднання двох кабелів дорівнюють їхній сумі довжин, а загальні витрати дорівнюють сумі з'єднання всіх кабелів.\n",
        "Завдання полягає в тому, щоб знайти порядок об'єднання, який мінімізує загальні витрати.\n"
      ],
      "metadata": {
        "id": "9cUdiOfVBzfz"
      }
    },
    {
      "cell_type": "code",
      "execution_count": 1,
      "metadata": {
        "colab": {
          "base_uri": "https://localhost:8080/"
        },
        "id": "EAsv2WozBn9i",
        "outputId": "92958410-2d64-494b-f648-5787b68999c7"
      },
      "outputs": [
        {
          "output_type": "stream",
          "name": "stdout",
          "text": [
            "[1, 2, 3, 4, 5, 6, 7, 8]\n"
          ]
        }
      ],
      "source": [
        "import heapq\n",
        "\n",
        "def heapsort(iterable):\n",
        "    h = []\n",
        "    for value in iterable:\n",
        "        heapq.heappush(h, value)\n",
        "    return [heapq.heappop(h) for _ in range(len(h))]\n",
        "\n",
        "arr = [3, 2, 5, 1, 7, 8, 6, 4]\n",
        "sorted_arr = heapsort(arr)\n",
        "print(sorted_arr)\n"
      ]
    },
    {
      "cell_type": "code",
      "source": [
        "import heapq\n",
        "\n",
        "def min_cost_to_connect_cables(cables):\n",
        "    heapq.heapify(cables)\n",
        "    total_cost = 0\n",
        "\n",
        "    while len(cables) > 1:\n",
        "        first = heapq.heappop(cables)\n",
        "        second = heapq.heappop(cables)\n",
        "\n",
        "        cost = first + second\n",
        "        total_cost += cost\n",
        "\n",
        "        heapq.heappush(cables, cost)\n",
        "\n",
        "    return total_cost\n",
        "\n",
        "cables = [4, 3, 2, 6]\n",
        "min_cost = min_cost_to_connect_cables(cables)\n",
        "print(f\"Minimal cost: {min_cost}\")\n"
      ],
      "metadata": {
        "colab": {
          "base_uri": "https://localhost:8080/"
        },
        "id": "kbhVwcnnCQlw",
        "outputId": "4cae6266-4211-4849-bcf9-38e78ab71783"
      },
      "execution_count": 2,
      "outputs": [
        {
          "output_type": "stream",
          "name": "stdout",
          "text": [
            "Minimal cost: 29\n"
          ]
        }
      ]
    },
    {
      "cell_type": "markdown",
      "source": [
        "Висновок\n",
        "Пірамідальне сортування: Ми реалізували пірамідальне сортування за допомогою модуля heapq. Цей алгоритм ефективний і має часову складність\n",
        "O(n*log*n) O(n*log*n).\n",
        "Мінімізація витрат на об'єднання кабелів: Ми використали мін-купу для об'єднання кабелів з найменшими витратами, застосувавши алгоритм, подібний до алгоритму злиття Хаффмана. Цей підхід гарантує мінімальні загальні витрати, оскільки завжди об'єднує найкоротші кабелі першими."
      ],
      "metadata": {
        "id": "CcHY-yZbCpo1"
      }
    }
  ]
}